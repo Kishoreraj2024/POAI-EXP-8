{
  "nbformat": 4,
  "nbformat_minor": 0,
  "metadata": {
    "colab": {
      "provenance": [],
      "authorship_tag": "ABX9TyP2jSlgAT+onJQsUqLwOHCS",
      "include_colab_link": true
    },
    "kernelspec": {
      "name": "python3",
      "display_name": "Python 3"
    },
    "language_info": {
      "name": "python"
    }
  },
  "cells": [
    {
      "cell_type": "markdown",
      "metadata": {
        "id": "view-in-github",
        "colab_type": "text"
      },
      "source": [
        "<a href=\"https://colab.research.google.com/github/Kishoreraj2024/POAI-EXP-8/blob/main/POAI_EXP_8ipynb.ipynb\" target=\"_parent\"><img src=\"https://colab.research.google.com/assets/colab-badge.svg\" alt=\"Open In Colab\"/></a>"
      ]
    },
    {
      "cell_type": "code",
      "source": [
        "# Knowledge Base: Rules in IF-THEN format\n",
        "knowledge_base = [\n",
        "    ([\"cough\", \"fever\"], \"flu\"),\n",
        "    ([\"sore_throat\", \"runny_nose\"], \"cold\"),\n",
        "    ([\"sore_throat\"], \"fever\"),  # Sore throat can lead to fever\n",
        "]\n",
        "\n",
        "# Given initial facts\n",
        "facts = {\"cough\", \"sore_throat\"}\n",
        "\n",
        "# Forward Chaining Function\n",
        "def forward_chaining():\n",
        "    inferred = True  # Keep looping as long as new facts are added\n",
        "    while inferred:\n",
        "        inferred = False  # Stop if no new fact is added in an iteration\n",
        "\n",
        "        for conditions, conclusion in knowledge_base:\n",
        "            if all(condition in facts for condition in conditions) and conclusion not in facts:\n",
        "                facts.add(conclusion)  # Add the inferred fact\n",
        "                inferred = True  # Mark that we inferred a new fact\n",
        "\n",
        "# Run forward chaining\n",
        "forward_chaining()\n",
        "\n",
        "# Check if flu or cold is inferred\n",
        "if \"flu\" in facts:\n",
        "    print(\"The patient is diagnosed with flu.\")\n",
        "elif \"cold\" in facts:\n",
        "    print(\"The patient is diagnosed with cold.\")\n",
        "else:\n",
        "    print(\"No conclusive diagnosis could be made.\")\n"
      ],
      "metadata": {
        "colab": {
          "base_uri": "https://localhost:8080/"
        },
        "id": "YkKUDBH59I0Q",
        "outputId": "6fec3a81-df76-491e-8802-082f1a54fb77"
      },
      "execution_count": 12,
      "outputs": [
        {
          "output_type": "stream",
          "name": "stdout",
          "text": [
            "The patient is diagnosed with flu.\n"
          ]
        }
      ]
    }
  ]
}